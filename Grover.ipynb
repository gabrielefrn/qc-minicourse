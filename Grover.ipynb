{
  "nbformat": 4,
  "nbformat_minor": 0,
  "metadata": {
    "colab": {
      "provenance": [],
      "authorship_tag": "ABX9TyO/IBFccSzUJXC5xHxYWWsm",
      "include_colab_link": true
    },
    "kernelspec": {
      "name": "python3",
      "display_name": "Python 3"
    },
    "language_info": {
      "name": "python"
    }
  },
  "cells": [
    {
      "cell_type": "markdown",
      "metadata": {
        "id": "view-in-github",
        "colab_type": "text"
      },
      "source": [
        "<a href=\"https://colab.research.google.com/github/gabrielefrn/qc-minicourse/blob/main/Grover.ipynb\" target=\"_parent\"><img src=\"https://colab.research.google.com/assets/colab-badge.svg\" alt=\"Open In Colab\"/></a>"
      ]
    },
    {
      "cell_type": "markdown",
      "source": [
        "09/04/2024"
      ],
      "metadata": {
        "id": "7II0KwT0XlDt"
      }
    },
    {
      "cell_type": "code",
      "execution_count": 1,
      "metadata": {
        "id": "YsE3-gw_XiSd",
        "colab": {
          "base_uri": "https://localhost:8080/",
          "height": 1000
        },
        "outputId": "be492248-d9f9-40ff-baae-44b5e82a311d"
      },
      "outputs": [
        {
          "output_type": "stream",
          "name": "stdout",
          "text": [
            "Requirement already satisfied: numpy in /usr/local/lib/python3.10/dist-packages (1.25.2)\n",
            "Collecting git+https://github.com/qiboteam/qiboedu\n",
            "  Cloning https://github.com/qiboteam/qiboedu to /tmp/pip-req-build-379ex5bg\n",
            "  Running command git clone --filter=blob:none --quiet https://github.com/qiboteam/qiboedu /tmp/pip-req-build-379ex5bg\n",
            "  Resolved https://github.com/qiboteam/qiboedu to commit 5de265148000f4e13217a16b535d14ca0b7e3d4a\n",
            "  Installing build dependencies ... \u001b[?25l\u001b[?25hdone\n",
            "  Getting requirements to build wheel ... \u001b[?25l\u001b[?25hdone\n",
            "  Preparing metadata (pyproject.toml) ... \u001b[?25l\u001b[?25hdone\n",
            "Collecting matplotlib<4.0.0,>=3.8.0 (from qiboedu==0.1.0)\n",
            "  Downloading matplotlib-3.8.4-cp310-cp310-manylinux_2_17_x86_64.manylinux2014_x86_64.whl (11.6 MB)\n",
            "\u001b[2K     \u001b[90m━━━━━━━━━━━━━━━━━━━━━━━━━━━━━━━━━━━━━━━━\u001b[0m \u001b[32m11.6/11.6 MB\u001b[0m \u001b[31m35.1 MB/s\u001b[0m eta \u001b[36m0:00:00\u001b[0m\n",
            "\u001b[?25hCollecting qibo<0.3.0,>=0.2.4 (from qiboedu==0.1.0)\n",
            "  Downloading qibo-0.2.7-py3-none-any.whl (258 kB)\n",
            "\u001b[2K     \u001b[90m━━━━━━━━━━━━━━━━━━━━━━━━━━━━━━━━━━━━━━━━\u001b[0m \u001b[32m258.2/258.2 kB\u001b[0m \u001b[31m20.8 MB/s\u001b[0m eta \u001b[36m0:00:00\u001b[0m\n",
            "\u001b[?25hCollecting qibojit<0.2.0,>=0.1.2 (from qiboedu==0.1.0)\n",
            "  Downloading qibojit-0.1.3-py3-none-any.whl (34 kB)\n",
            "Requirement already satisfied: contourpy>=1.0.1 in /usr/local/lib/python3.10/dist-packages (from matplotlib<4.0.0,>=3.8.0->qiboedu==0.1.0) (1.2.1)\n",
            "Requirement already satisfied: cycler>=0.10 in /usr/local/lib/python3.10/dist-packages (from matplotlib<4.0.0,>=3.8.0->qiboedu==0.1.0) (0.12.1)\n",
            "Requirement already satisfied: fonttools>=4.22.0 in /usr/local/lib/python3.10/dist-packages (from matplotlib<4.0.0,>=3.8.0->qiboedu==0.1.0) (4.50.0)\n",
            "Requirement already satisfied: kiwisolver>=1.3.1 in /usr/local/lib/python3.10/dist-packages (from matplotlib<4.0.0,>=3.8.0->qiboedu==0.1.0) (1.4.5)\n",
            "Requirement already satisfied: numpy>=1.21 in /usr/local/lib/python3.10/dist-packages (from matplotlib<4.0.0,>=3.8.0->qiboedu==0.1.0) (1.25.2)\n",
            "Requirement already satisfied: packaging>=20.0 in /usr/local/lib/python3.10/dist-packages (from matplotlib<4.0.0,>=3.8.0->qiboedu==0.1.0) (24.0)\n",
            "Requirement already satisfied: pillow>=8 in /usr/local/lib/python3.10/dist-packages (from matplotlib<4.0.0,>=3.8.0->qiboedu==0.1.0) (9.4.0)\n",
            "Requirement already satisfied: pyparsing>=2.3.1 in /usr/local/lib/python3.10/dist-packages (from matplotlib<4.0.0,>=3.8.0->qiboedu==0.1.0) (3.1.2)\n",
            "Requirement already satisfied: python-dateutil>=2.7 in /usr/local/lib/python3.10/dist-packages (from matplotlib<4.0.0,>=3.8.0->qiboedu==0.1.0) (2.8.2)\n",
            "Collecting cma<4.0.0,>=3.3.0 (from qibo<0.3.0,>=0.2.4->qiboedu==0.1.0)\n",
            "  Downloading cma-3.3.0-py3-none-any.whl (260 kB)\n",
            "\u001b[2K     \u001b[90m━━━━━━━━━━━━━━━━━━━━━━━━━━━━━━━━━━━━━━━━\u001b[0m \u001b[32m260.7/260.7 kB\u001b[0m \u001b[31m22.1 MB/s\u001b[0m eta \u001b[36m0:00:00\u001b[0m\n",
            "\u001b[?25hRequirement already satisfied: hyperopt<0.3.0,>=0.2.7 in /usr/local/lib/python3.10/dist-packages (from qibo<0.3.0,>=0.2.4->qiboedu==0.1.0) (0.2.7)\n",
            "Requirement already satisfied: joblib<2.0.0,>=1.2.0 in /usr/local/lib/python3.10/dist-packages (from qibo<0.3.0,>=0.2.4->qiboedu==0.1.0) (1.3.2)\n",
            "Requirement already satisfied: networkx<4.0.0,>=3.2.1 in /usr/local/lib/python3.10/dist-packages (from qibo<0.3.0,>=0.2.4->qiboedu==0.1.0) (3.2.1)\n",
            "Collecting numpy>=1.21 (from matplotlib<4.0.0,>=3.8.0->qiboedu==0.1.0)\n",
            "  Downloading numpy-1.26.4-cp310-cp310-manylinux_2_17_x86_64.manylinux2014_x86_64.whl (18.2 MB)\n",
            "\u001b[2K     \u001b[90m━━━━━━━━━━━━━━━━━━━━━━━━━━━━━━━━━━━━━━━━\u001b[0m \u001b[32m18.2/18.2 MB\u001b[0m \u001b[31m33.4 MB/s\u001b[0m eta \u001b[36m0:00:00\u001b[0m\n",
            "\u001b[?25hCollecting openqasm3[parser]>=0.5.0 (from qibo<0.3.0,>=0.2.4->qiboedu==0.1.0)\n",
            "  Downloading openqasm3-0.5.0-py3-none-any.whl (524 kB)\n",
            "\u001b[2K     \u001b[90m━━━━━━━━━━━━━━━━━━━━━━━━━━━━━━━━━━━━━━━━\u001b[0m \u001b[32m524.0/524.0 kB\u001b[0m \u001b[31m27.4 MB/s\u001b[0m eta \u001b[36m0:00:00\u001b[0m\n",
            "\u001b[?25hRequirement already satisfied: scipy<2.0.0,>=1.10.1 in /usr/local/lib/python3.10/dist-packages (from qibo<0.3.0,>=0.2.4->qiboedu==0.1.0) (1.11.4)\n",
            "Requirement already satisfied: sympy<2.0.0,>=1.11.1 in /usr/local/lib/python3.10/dist-packages (from qibo<0.3.0,>=0.2.4->qiboedu==0.1.0) (1.12)\n",
            "Requirement already satisfied: tabulate<0.10.0,>=0.9.0 in /usr/local/lib/python3.10/dist-packages (from qibo<0.3.0,>=0.2.4->qiboedu==0.1.0) (0.9.0)\n",
            "Requirement already satisfied: numba>=0.51.0 in /usr/local/lib/python3.10/dist-packages (from qibojit<0.2.0,>=0.1.2->qiboedu==0.1.0) (0.58.1)\n",
            "Requirement already satisfied: psutil<6.0.0,>=5.9.5 in /usr/local/lib/python3.10/dist-packages (from qibojit<0.2.0,>=0.1.2->qiboedu==0.1.0) (5.9.5)\n",
            "Requirement already satisfied: six in /usr/local/lib/python3.10/dist-packages (from hyperopt<0.3.0,>=0.2.7->qibo<0.3.0,>=0.2.4->qiboedu==0.1.0) (1.16.0)\n",
            "Requirement already satisfied: future in /usr/local/lib/python3.10/dist-packages (from hyperopt<0.3.0,>=0.2.7->qibo<0.3.0,>=0.2.4->qiboedu==0.1.0) (0.18.3)\n",
            "Requirement already satisfied: tqdm in /usr/local/lib/python3.10/dist-packages (from hyperopt<0.3.0,>=0.2.7->qibo<0.3.0,>=0.2.4->qiboedu==0.1.0) (4.66.2)\n",
            "Requirement already satisfied: cloudpickle in /usr/local/lib/python3.10/dist-packages (from hyperopt<0.3.0,>=0.2.7->qibo<0.3.0,>=0.2.4->qiboedu==0.1.0) (2.2.1)\n",
            "Requirement already satisfied: py4j in /usr/local/lib/python3.10/dist-packages (from hyperopt<0.3.0,>=0.2.7->qibo<0.3.0,>=0.2.4->qiboedu==0.1.0) (0.10.9.7)\n",
            "Requirement already satisfied: llvmlite<0.42,>=0.41.0dev0 in /usr/local/lib/python3.10/dist-packages (from numba>=0.51.0->qibojit<0.2.0,>=0.1.2->qiboedu==0.1.0) (0.41.1)\n",
            "Collecting antlr4-python3-runtime<4.14,>=4.7 (from openqasm3[parser]>=0.5.0->qibo<0.3.0,>=0.2.4->qiboedu==0.1.0)\n",
            "  Downloading antlr4_python3_runtime-4.13.1-py3-none-any.whl (144 kB)\n",
            "\u001b[2K     \u001b[90m━━━━━━━━━━━━━━━━━━━━━━━━━━━━━━━━━━━━━━━━\u001b[0m \u001b[32m144.5/144.5 kB\u001b[0m \u001b[31m13.0 MB/s\u001b[0m eta \u001b[36m0:00:00\u001b[0m\n",
            "\u001b[?25hRequirement already satisfied: mpmath>=0.19 in /usr/local/lib/python3.10/dist-packages (from sympy<2.0.0,>=1.11.1->qibo<0.3.0,>=0.2.4->qiboedu==0.1.0) (1.3.0)\n",
            "Building wheels for collected packages: qiboedu\n",
            "  Building wheel for qiboedu (pyproject.toml) ... \u001b[?25l\u001b[?25hdone\n",
            "  Created wheel for qiboedu: filename=qiboedu-0.1.0-py3-none-any.whl size=16678 sha256=05fd48502bd5ce0347cb1117acff21e8fea892395d4f92135b794d4a5d478c4c\n",
            "  Stored in directory: /tmp/pip-ephem-wheel-cache-b4rhqtj5/wheels/88/3e/b3/56312e57970f2fabccd0b51c358665866db085f22720ced56a\n",
            "Successfully built qiboedu\n",
            "Installing collected packages: openqasm3, antlr4-python3-runtime, numpy, cma, matplotlib, qibo, qibojit, qiboedu\n",
            "  Attempting uninstall: numpy\n",
            "    Found existing installation: numpy 1.25.2\n",
            "    Uninstalling numpy-1.25.2:\n",
            "      Successfully uninstalled numpy-1.25.2\n",
            "  Attempting uninstall: matplotlib\n",
            "    Found existing installation: matplotlib 3.7.1\n",
            "    Uninstalling matplotlib-3.7.1:\n",
            "      Successfully uninstalled matplotlib-3.7.1\n",
            "Successfully installed antlr4-python3-runtime-4.13.1 cma-3.3.0 matplotlib-3.8.4 numpy-1.26.4 openqasm3-0.5.0 qibo-0.2.7 qiboedu-0.1.0 qibojit-0.1.3\n"
          ]
        },
        {
          "output_type": "display_data",
          "data": {
            "application/vnd.colab-display-data+json": {
              "pip_warning": {
                "packages": [
                  "matplotlib",
                  "mpl_toolkits"
                ]
              },
              "id": "98f762c25b094408b27477170aa72899"
            }
          },
          "metadata": {}
        },
        {
          "output_type": "stream",
          "name": "stdout",
          "text": [
            "Requirement already satisfied: qibo in /usr/local/lib/python3.10/dist-packages (0.2.7)\n",
            "Requirement already satisfied: cma<4.0.0,>=3.3.0 in /usr/local/lib/python3.10/dist-packages (from qibo) (3.3.0)\n",
            "Requirement already satisfied: hyperopt<0.3.0,>=0.2.7 in /usr/local/lib/python3.10/dist-packages (from qibo) (0.2.7)\n",
            "Requirement already satisfied: joblib<2.0.0,>=1.2.0 in /usr/local/lib/python3.10/dist-packages (from qibo) (1.3.2)\n",
            "Requirement already satisfied: networkx<4.0.0,>=3.2.1 in /usr/local/lib/python3.10/dist-packages (from qibo) (3.2.1)\n",
            "Requirement already satisfied: numpy<2.0.0,>=1.26.4 in /usr/local/lib/python3.10/dist-packages (from qibo) (1.26.4)\n",
            "Requirement already satisfied: openqasm3[parser]>=0.5.0 in /usr/local/lib/python3.10/dist-packages (from qibo) (0.5.0)\n",
            "Requirement already satisfied: scipy<2.0.0,>=1.10.1 in /usr/local/lib/python3.10/dist-packages (from qibo) (1.11.4)\n",
            "Requirement already satisfied: sympy<2.0.0,>=1.11.1 in /usr/local/lib/python3.10/dist-packages (from qibo) (1.12)\n",
            "Requirement already satisfied: tabulate<0.10.0,>=0.9.0 in /usr/local/lib/python3.10/dist-packages (from qibo) (0.9.0)\n",
            "Requirement already satisfied: six in /usr/local/lib/python3.10/dist-packages (from hyperopt<0.3.0,>=0.2.7->qibo) (1.16.0)\n",
            "Requirement already satisfied: future in /usr/local/lib/python3.10/dist-packages (from hyperopt<0.3.0,>=0.2.7->qibo) (0.18.3)\n",
            "Requirement already satisfied: tqdm in /usr/local/lib/python3.10/dist-packages (from hyperopt<0.3.0,>=0.2.7->qibo) (4.66.2)\n",
            "Requirement already satisfied: cloudpickle in /usr/local/lib/python3.10/dist-packages (from hyperopt<0.3.0,>=0.2.7->qibo) (2.2.1)\n",
            "Requirement already satisfied: py4j in /usr/local/lib/python3.10/dist-packages (from hyperopt<0.3.0,>=0.2.7->qibo) (0.10.9.7)\n",
            "Requirement already satisfied: antlr4-python3-runtime<4.14,>=4.7 in /usr/local/lib/python3.10/dist-packages (from openqasm3[parser]>=0.5.0->qibo) (4.13.1)\n",
            "Requirement already satisfied: mpmath>=0.19 in /usr/local/lib/python3.10/dist-packages (from sympy<2.0.0,>=1.11.1->qibo) (1.3.0)\n"
          ]
        }
      ],
      "source": [
        "!pip install numpy\n",
        "!pip install git+https://github.com/qiboteam/qiboedu\n",
        "!pip install qibo"
      ]
    },
    {
      "cell_type": "code",
      "source": [
        "import random\n",
        "import numpy as np\n",
        "import matplotlib.pyplot as plt\n",
        "\n",
        "import qibo\n",
        "from qibo import Circuit, gates\n",
        "\n",
        "from qiboedu.scripts import utils, plotscripts\n",
        "\n",
        "print(qibo.get_backend())"
      ],
      "metadata": {
        "colab": {
          "base_uri": "https://localhost:8080/"
        },
        "id": "QZUFpK03HdB7",
        "outputId": "7c97fdc2-b9cb-4def-abb8-dfa3f2cd4b04"
      },
      "execution_count": 1,
      "outputs": [
        {
          "output_type": "stream",
          "name": "stderr",
          "text": [
            "[Qibo 0.2.7|INFO|2024-04-09 18:30:59]: Using qibojit (numba) backend on /CPU:0\n",
            "INFO:qibo.config:Using qibojit (numba) backend on /CPU:0\n"
          ]
        },
        {
          "output_type": "stream",
          "name": "stdout",
          "text": [
            "qibojit (numba)\n"
          ]
        }
      ]
    },
    {
      "cell_type": "code",
      "source": [
        "#define dimensionality\n",
        "n = 5\n",
        "\n",
        "#number of shots = circuit executions\n",
        "nshots = 100000\n",
        "\n",
        "\n",
        "bitstrings = utils.generate_bitstring_combinations(n)\n",
        "\n",
        "print(bitstrings)"
      ],
      "metadata": {
        "colab": {
          "base_uri": "https://localhost:8080/"
        },
        "id": "IXSyPtATH8NS",
        "outputId": "06268dfc-77ff-4aec-b20d-d161fef680a6"
      },
      "execution_count": 2,
      "outputs": [
        {
          "output_type": "stream",
          "name": "stdout",
          "text": [
            "['00000', '00001', '00010', '00011', '00100', '00101', '00110', '00111', '01000', '01001', '01010', '01011', '01100', '01101', '01110', '01111', '10000', '10001', '10010', '10011', '10100', '10101', '10110', '10111', '11000', '11001', '11010', '11011', '11100', '11101', '11110', '11111']\n"
          ]
        }
      ]
    },
    {
      "cell_type": "code",
      "source": [
        "#check if the lenght list is equal to 2^n\n",
        "\n",
        "print(2**n)\n",
        "print(len(bitstrings))"
      ],
      "metadata": {
        "colab": {
          "base_uri": "https://localhost:8080/"
        },
        "id": "dIvSRm_AISOR",
        "outputId": "49ea9f06-49ce-4ec9-a20b-0e86675780ce"
      },
      "execution_count": 3,
      "outputs": [
        {
          "output_type": "stream",
          "name": "stdout",
          "text": [
            "32\n",
            "32\n"
          ]
        }
      ]
    },
    {
      "cell_type": "code",
      "source": [
        "!pip install Faker\n",
        "\n",
        "from faker import Faker\n",
        "\n",
        "fake = Faker()"
      ],
      "metadata": {
        "colab": {
          "base_uri": "https://localhost:8080/"
        },
        "id": "tdGMioZ_Icgk",
        "outputId": "2675d258-a606-4f06-d71e-b39ef596e573"
      },
      "execution_count": 4,
      "outputs": [
        {
          "output_type": "stream",
          "name": "stdout",
          "text": [
            "Collecting Faker\n",
            "  Downloading Faker-24.8.0-py3-none-any.whl (1.8 MB)\n",
            "\u001b[2K     \u001b[90m━━━━━━━━━━━━━━━━━━━━━━━━━━━━━━━━━━━━━━━━\u001b[0m \u001b[32m1.8/1.8 MB\u001b[0m \u001b[31m6.7 MB/s\u001b[0m eta \u001b[36m0:00:00\u001b[0m\n",
            "\u001b[?25hRequirement already satisfied: python-dateutil>=2.4 in /usr/local/lib/python3.10/dist-packages (from Faker) (2.8.2)\n",
            "Requirement already satisfied: six>=1.5 in /usr/local/lib/python3.10/dist-packages (from python-dateutil>=2.4->Faker) (1.16.0)\n",
            "Installing collected packages: Faker\n",
            "Successfully installed Faker-24.8.0\n"
          ]
        }
      ]
    },
    {
      "cell_type": "code",
      "source": [
        "#generate 2^n names with faker.name\n",
        "\n",
        "names = []\n",
        "\n",
        "for i in range(2**n):\n",
        "  names.append(fake.name())\n",
        "print(names)"
      ],
      "metadata": {
        "colab": {
          "base_uri": "https://localhost:8080/"
        },
        "id": "7wICXrWnImO1",
        "outputId": "fb24809f-9c65-4841-d274-ae7c78e26c91"
      },
      "execution_count": 5,
      "outputs": [
        {
          "output_type": "stream",
          "name": "stdout",
          "text": [
            "['Brenda Franco', 'Donald Martinez', 'Thomas Hess', 'Stephen Bright', 'Thomas Johnson', 'Daniel Long', 'Robert Herring', 'Kathryn Mahoney', 'Charles Diaz', 'Ryan Booth', 'Seth Hunter', 'Danny Pace', 'Alicia Osborne', 'Caroline Jackson', 'Tammy Fowler', 'Terri Taylor', 'Andrew James', 'Paula Skinner', 'John Buckley', 'Jacob Cole', 'Amanda Camacho', 'Benjamin Jones', 'Michelle Hale', 'Mr. Scott Lowe', 'Mary Oconnell', 'Kristie Dunn', 'Laura Pineda', 'Mary Copeland', 'Sean Stevens', 'Justin Ritter', 'Eric Thornton', 'Amber Rodriguez']\n"
          ]
        }
      ]
    },
    {
      "cell_type": "markdown",
      "source": [
        "Assuming the guilty gut is in position 11:"
      ],
      "metadata": {
        "id": "eigP17AbI0mv"
      }
    },
    {
      "cell_type": "code",
      "source": [
        "#set the guilty index\n",
        "\n",
        "guilty_index = 11\n",
        "\n",
        "print(f\"Guilty index: {guilty_index}\")\n",
        "print(f\"Guilty {names[guilty_index]} corresponding to state {bitstrings[guilty_index]}\")"
      ],
      "metadata": {
        "colab": {
          "base_uri": "https://localhost:8080/"
        },
        "id": "N2WZLfs0I30P",
        "outputId": "517da17e-ec1e-4500-d6e6-6a3a81563300"
      },
      "execution_count": 6,
      "outputs": [
        {
          "output_type": "stream",
          "name": "stdout",
          "text": [
            "Guilty index: 11\n",
            "Gulty Danny Pace corresponding to state 01011\n"
          ]
        }
      ]
    },
    {
      "cell_type": "code",
      "source": [
        "#building the inigtial and final layer\n",
        "\n",
        "def build_initial_layer(n):\n",
        "  #building the initial superposition in grover circuit\n",
        "\n",
        "  # n + 1 qubits\n",
        "  c = Circuit(n+1)\n",
        "\n",
        "  #state preparation\n",
        "  c.add(gates.X(n))\n",
        "\n",
        "  for q in range(n+1):\n",
        "    c.add(gates.H(q))\n",
        "\n",
        "  return c\n",
        "\n",
        "#write a function to build a circuit containing the final measurements\n",
        "\n",
        "def build_final_layer(n):\n",
        "  c = Circuit(n+1)\n",
        "  c.add(gates.M(*range(n)))\n",
        "\n",
        "  return c"
      ],
      "metadata": {
        "id": "67U5wrBFJZu4"
      },
      "execution_count": 7,
      "outputs": []
    },
    {
      "cell_type": "code",
      "source": [
        "#build the circuit as initial layer + final layer and draw it\n",
        "\n",
        "c = build_initial_layer(n) + build_final_layer(n)\n",
        "\n",
        "print(c.draw())"
      ],
      "metadata": {
        "colab": {
          "base_uri": "https://localhost:8080/"
        },
        "id": "oH4xKuqOKW2I",
        "outputId": "4c9fb1a0-a6b9-4b18-a9eb-9b91e5972d38"
      },
      "execution_count": 8,
      "outputs": [
        {
          "output_type": "stream",
          "name": "stdout",
          "text": [
            "q0: ─H───M─\n",
            "q1: ─H───M─\n",
            "q2: ─H───M─\n",
            "q3: ─H───M─\n",
            "q4: ─H───M─\n",
            "q5: ─X─H───\n"
          ]
        }
      ]
    },
    {
      "cell_type": "code",
      "source": [
        "plotscripts.plot_input_register_amplitudes(c().state())"
      ],
      "metadata": {
        "colab": {
          "base_uri": "https://localhost:8080/",
          "height": 430
        },
        "id": "4GEql5L1KpBd",
        "outputId": "fc56437c-14bc-4de2-bcbb-ed12a1107b67"
      },
      "execution_count": 9,
      "outputs": [
        {
          "output_type": "display_data",
          "data": {
            "text/plain": [
              "<Figure size 1000x375 with 1 Axes>"
            ],
            "image/png": "[encoded data removed]"
          },
          "metadata": {}
        }
      ]
    }
  ]
}