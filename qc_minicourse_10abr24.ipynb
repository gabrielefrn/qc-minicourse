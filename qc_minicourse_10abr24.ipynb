{
  "nbformat": 4,
  "nbformat_minor": 0,
  "metadata": {
    "colab": {
      "provenance": [],
      "authorship_tag": "ABX9TyN9I1hKuwaczDB1cTAtVSlC",
      "include_colab_link": true
    },
    "kernelspec": {
      "name": "python3",
      "display_name": "Python 3"
    },
    "language_info": {
      "name": "python"
    }
  },
  "cells": [
    {
      "cell_type": "markdown",
      "metadata": {
        "id": "view-in-github",
        "colab_type": "text"
      },
      "source": [
        "<a href=\"https://colab.research.google.com/github/gabrielefrn/qc-minicourse/blob/main/qc_minicourse_10abr24.ipynb\" target=\"_parent\"><img src=\"https://colab.research.google.com/assets/colab-badge.svg\" alt=\"Open In Colab\"/></a>"
      ]
    },
    {
      "cell_type": "markdown",
      "source": [
        "# Quantum noise and error mitigation"
      ],
      "metadata": {
        "id": "ajg5TqUA9mJb"
      }
    },
    {
      "cell_type": "markdown",
      "source": [
        "Simulanting quantum noise"
      ],
      "metadata": {
        "id": "j04tzMY9Fgx6"
      }
    },
    {
      "cell_type": "code",
      "execution_count": null,
      "metadata": {
        "id": "kUsuNbPs8nTT",
        "colab": {
          "base_uri": "https://localhost:8080/",
          "height": 1000
        },
        "outputId": "f4e711d5-256a-4dc7-b097-a4b5b8da7bfc"
      },
      "outputs": [
        {
          "output_type": "stream",
          "name": "stdout",
          "text": [
            "Requirement already satisfied: numpy in /usr/local/lib/python3.10/dist-packages (1.25.2)\n",
            "Collecting git+https://github.com/qiboteam/qiboedu\n",
            "  Cloning https://github.com/qiboteam/qiboedu to /tmp/pip-req-build-lh9f7m6d\n",
            "  Running command git clone --filter=blob:none --quiet https://github.com/qiboteam/qiboedu /tmp/pip-req-build-lh9f7m6d\n",
            "  Resolved https://github.com/qiboteam/qiboedu to commit 57594cde061a007f0ee6015d05c7a95bd4627baa\n",
            "  Installing build dependencies ... \u001b[?25l\u001b[?25hdone\n",
            "  Getting requirements to build wheel ... \u001b[?25l\u001b[?25hdone\n",
            "  Preparing metadata (pyproject.toml) ... \u001b[?25l\u001b[?25hdone\n",
            "Collecting matplotlib<4.0.0,>=3.8.0 (from qiboedu==0.1.0)\n",
            "  Downloading matplotlib-3.8.4-cp310-cp310-manylinux_2_17_x86_64.manylinux2014_x86_64.whl (11.6 MB)\n",
            "\u001b[2K     \u001b[90m━━━━━━━━━━━━━━━━━━━━━━━━━━━━━━━━━━━━━━━━\u001b[0m \u001b[32m11.6/11.6 MB\u001b[0m \u001b[31m24.1 MB/s\u001b[0m eta \u001b[36m0:00:00\u001b[0m\n",
            "\u001b[?25hCollecting qibo<0.3.0,>=0.2.4 (from qiboedu==0.1.0)\n",
            "  Downloading qibo-0.2.7-py3-none-any.whl (258 kB)\n",
            "\u001b[2K     \u001b[90m━━━━━━━━━━━━━━━━━━━━━━━━━━━━━━━━━━━━━━━━\u001b[0m \u001b[32m258.2/258.2 kB\u001b[0m \u001b[31m20.6 MB/s\u001b[0m eta \u001b[36m0:00:00\u001b[0m\n",
            "\u001b[?25hCollecting qibojit<0.2.0,>=0.1.2 (from qiboedu==0.1.0)\n",
            "  Downloading qibojit-0.1.3-py3-none-any.whl (34 kB)\n",
            "Requirement already satisfied: contourpy>=1.0.1 in /usr/local/lib/python3.10/dist-packages (from matplotlib<4.0.0,>=3.8.0->qiboedu==0.1.0) (1.2.1)\n",
            "Requirement already satisfied: cycler>=0.10 in /usr/local/lib/python3.10/dist-packages (from matplotlib<4.0.0,>=3.8.0->qiboedu==0.1.0) (0.12.1)\n",
            "Requirement already satisfied: fonttools>=4.22.0 in /usr/local/lib/python3.10/dist-packages (from matplotlib<4.0.0,>=3.8.0->qiboedu==0.1.0) (4.50.0)\n",
            "Requirement already satisfied: kiwisolver>=1.3.1 in /usr/local/lib/python3.10/dist-packages (from matplotlib<4.0.0,>=3.8.0->qiboedu==0.1.0) (1.4.5)\n",
            "Requirement already satisfied: numpy>=1.21 in /usr/local/lib/python3.10/dist-packages (from matplotlib<4.0.0,>=3.8.0->qiboedu==0.1.0) (1.25.2)\n",
            "Requirement already satisfied: packaging>=20.0 in /usr/local/lib/python3.10/dist-packages (from matplotlib<4.0.0,>=3.8.0->qiboedu==0.1.0) (24.0)\n",
            "Requirement already satisfied: pillow>=8 in /usr/local/lib/python3.10/dist-packages (from matplotlib<4.0.0,>=3.8.0->qiboedu==0.1.0) (9.4.0)\n",
            "Requirement already satisfied: pyparsing>=2.3.1 in /usr/local/lib/python3.10/dist-packages (from matplotlib<4.0.0,>=3.8.0->qiboedu==0.1.0) (3.1.2)\n",
            "Requirement already satisfied: python-dateutil>=2.7 in /usr/local/lib/python3.10/dist-packages (from matplotlib<4.0.0,>=3.8.0->qiboedu==0.1.0) (2.8.2)\n",
            "Collecting cma<4.0.0,>=3.3.0 (from qibo<0.3.0,>=0.2.4->qiboedu==0.1.0)\n",
            "  Downloading cma-3.3.0-py3-none-any.whl (260 kB)\n",
            "\u001b[2K     \u001b[90m━━━━━━━━━━━━━━━━━━━━━━━━━━━━━━━━━━━━━━━━\u001b[0m \u001b[32m260.7/260.7 kB\u001b[0m \u001b[31m21.1 MB/s\u001b[0m eta \u001b[36m0:00:00\u001b[0m\n",
            "\u001b[?25hRequirement already satisfied: hyperopt<0.3.0,>=0.2.7 in /usr/local/lib/python3.10/dist-packages (from qibo<0.3.0,>=0.2.4->qiboedu==0.1.0) (0.2.7)\n",
            "Requirement already satisfied: joblib<2.0.0,>=1.2.0 in /usr/local/lib/python3.10/dist-packages (from qibo<0.3.0,>=0.2.4->qiboedu==0.1.0) (1.3.2)\n",
            "Requirement already satisfied: networkx<4.0.0,>=3.2.1 in /usr/local/lib/python3.10/dist-packages (from qibo<0.3.0,>=0.2.4->qiboedu==0.1.0) (3.2.1)\n",
            "Collecting numpy>=1.21 (from matplotlib<4.0.0,>=3.8.0->qiboedu==0.1.0)\n",
            "  Downloading numpy-1.26.4-cp310-cp310-manylinux_2_17_x86_64.manylinux2014_x86_64.whl (18.2 MB)\n",
            "\u001b[2K     \u001b[90m━━━━━━━━━━━━━━━━━━━━━━━━━━━━━━━━━━━━━━━━\u001b[0m \u001b[32m18.2/18.2 MB\u001b[0m \u001b[31m27.0 MB/s\u001b[0m eta \u001b[36m0:00:00\u001b[0m\n",
            "\u001b[?25hCollecting openqasm3[parser]>=0.5.0 (from qibo<0.3.0,>=0.2.4->qiboedu==0.1.0)\n",
            "  Downloading openqasm3-0.5.0-py3-none-any.whl (524 kB)\n",
            "\u001b[2K     \u001b[90m━━━━━━━━━━━━━━━━━━━━━━━━━━━━━━━━━━━━━━━━\u001b[0m \u001b[32m524.0/524.0 kB\u001b[0m \u001b[31m32.8 MB/s\u001b[0m eta \u001b[36m0:00:00\u001b[0m\n",
            "\u001b[?25hRequirement already satisfied: scipy<2.0.0,>=1.10.1 in /usr/local/lib/python3.10/dist-packages (from qibo<0.3.0,>=0.2.4->qiboedu==0.1.0) (1.11.4)\n",
            "Requirement already satisfied: sympy<2.0.0,>=1.11.1 in /usr/local/lib/python3.10/dist-packages (from qibo<0.3.0,>=0.2.4->qiboedu==0.1.0) (1.12)\n",
            "Requirement already satisfied: tabulate<0.10.0,>=0.9.0 in /usr/local/lib/python3.10/dist-packages (from qibo<0.3.0,>=0.2.4->qiboedu==0.1.0) (0.9.0)\n",
            "Requirement already satisfied: numba>=0.51.0 in /usr/local/lib/python3.10/dist-packages (from qibojit<0.2.0,>=0.1.2->qiboedu==0.1.0) (0.58.1)\n",
            "Requirement already satisfied: psutil<6.0.0,>=5.9.5 in /usr/local/lib/python3.10/dist-packages (from qibojit<0.2.0,>=0.1.2->qiboedu==0.1.0) (5.9.5)\n",
            "Requirement already satisfied: six in /usr/local/lib/python3.10/dist-packages (from hyperopt<0.3.0,>=0.2.7->qibo<0.3.0,>=0.2.4->qiboedu==0.1.0) (1.16.0)\n",
            "Requirement already satisfied: future in /usr/local/lib/python3.10/dist-packages (from hyperopt<0.3.0,>=0.2.7->qibo<0.3.0,>=0.2.4->qiboedu==0.1.0) (0.18.3)\n",
            "Requirement already satisfied: tqdm in /usr/local/lib/python3.10/dist-packages (from hyperopt<0.3.0,>=0.2.7->qibo<0.3.0,>=0.2.4->qiboedu==0.1.0) (4.66.2)\n",
            "Requirement already satisfied: cloudpickle in /usr/local/lib/python3.10/dist-packages (from hyperopt<0.3.0,>=0.2.7->qibo<0.3.0,>=0.2.4->qiboedu==0.1.0) (2.2.1)\n",
            "Requirement already satisfied: py4j in /usr/local/lib/python3.10/dist-packages (from hyperopt<0.3.0,>=0.2.7->qibo<0.3.0,>=0.2.4->qiboedu==0.1.0) (0.10.9.7)\n",
            "Requirement already satisfied: llvmlite<0.42,>=0.41.0dev0 in /usr/local/lib/python3.10/dist-packages (from numba>=0.51.0->qibojit<0.2.0,>=0.1.2->qiboedu==0.1.0) (0.41.1)\n",
            "Collecting antlr4-python3-runtime<4.14,>=4.7 (from openqasm3[parser]>=0.5.0->qibo<0.3.0,>=0.2.4->qiboedu==0.1.0)\n",
            "  Downloading antlr4_python3_runtime-4.13.1-py3-none-any.whl (144 kB)\n",
            "\u001b[2K     \u001b[90m━━━━━━━━━━━━━━━━━━━━━━━━━━━━━━━━━━━━━━━━\u001b[0m \u001b[32m144.5/144.5 kB\u001b[0m \u001b[31m14.0 MB/s\u001b[0m eta \u001b[36m0:00:00\u001b[0m\n",
            "\u001b[?25hRequirement already satisfied: mpmath>=0.19 in /usr/local/lib/python3.10/dist-packages (from sympy<2.0.0,>=1.11.1->qibo<0.3.0,>=0.2.4->qiboedu==0.1.0) (1.3.0)\n",
            "Building wheels for collected packages: qiboedu\n",
            "  Building wheel for qiboedu (pyproject.toml) ... \u001b[?25l\u001b[?25hdone\n",
            "  Created wheel for qiboedu: filename=qiboedu-0.1.0-py3-none-any.whl size=16678 sha256=05fd48502bd5ce0347cb1117acff21e8fea892395d4f92135b794d4a5d478c4c\n",
            "  Stored in directory: /tmp/pip-ephem-wheel-cache-q750_4tk/wheels/88/3e/b3/56312e57970f2fabccd0b51c358665866db085f22720ced56a\n",
            "Successfully built qiboedu\n",
            "Installing collected packages: openqasm3, antlr4-python3-runtime, numpy, cma, matplotlib, qibo, qibojit, qiboedu\n",
            "  Attempting uninstall: numpy\n",
            "    Found existing installation: numpy 1.25.2\n",
            "    Uninstalling numpy-1.25.2:\n",
            "      Successfully uninstalled numpy-1.25.2\n",
            "  Attempting uninstall: matplotlib\n",
            "    Found existing installation: matplotlib 3.7.1\n",
            "    Uninstalling matplotlib-3.7.1:\n",
            "      Successfully uninstalled matplotlib-3.7.1\n",
            "Successfully installed antlr4-python3-runtime-4.13.1 cma-3.3.0 matplotlib-3.8.4 numpy-1.26.4 openqasm3-0.5.0 qibo-0.2.7 qiboedu-0.1.0 qibojit-0.1.3\n"
          ]
        },
        {
          "output_type": "display_data",
          "data": {
            "application/vnd.colab-display-data+json": {
              "pip_warning": {
                "packages": [
                  "matplotlib",
                  "mpl_toolkits"
                ]
              },
              "id": "f0b219bb2ad94b5c907e0695c6f8fa70"
            }
          },
          "metadata": {}
        },
        {
          "output_type": "stream",
          "name": "stdout",
          "text": [
            "Requirement already satisfied: qibo in /usr/local/lib/python3.10/dist-packages (0.2.7)\n",
            "Requirement already satisfied: cma<4.0.0,>=3.3.0 in /usr/local/lib/python3.10/dist-packages (from qibo) (3.3.0)\n",
            "Requirement already satisfied: hyperopt<0.3.0,>=0.2.7 in /usr/local/lib/python3.10/dist-packages (from qibo) (0.2.7)\n",
            "Requirement already satisfied: joblib<2.0.0,>=1.2.0 in /usr/local/lib/python3.10/dist-packages (from qibo) (1.3.2)\n",
            "Requirement already satisfied: networkx<4.0.0,>=3.2.1 in /usr/local/lib/python3.10/dist-packages (from qibo) (3.2.1)\n",
            "Requirement already satisfied: numpy<2.0.0,>=1.26.4 in /usr/local/lib/python3.10/dist-packages (from qibo) (1.26.4)\n",
            "Requirement already satisfied: openqasm3[parser]>=0.5.0 in /usr/local/lib/python3.10/dist-packages (from qibo) (0.5.0)\n",
            "Requirement already satisfied: scipy<2.0.0,>=1.10.1 in /usr/local/lib/python3.10/dist-packages (from qibo) (1.11.4)\n",
            "Requirement already satisfied: sympy<2.0.0,>=1.11.1 in /usr/local/lib/python3.10/dist-packages (from qibo) (1.12)\n",
            "Requirement already satisfied: tabulate<0.10.0,>=0.9.0 in /usr/local/lib/python3.10/dist-packages (from qibo) (0.9.0)\n",
            "Requirement already satisfied: six in /usr/local/lib/python3.10/dist-packages (from hyperopt<0.3.0,>=0.2.7->qibo) (1.16.0)\n",
            "Requirement already satisfied: future in /usr/local/lib/python3.10/dist-packages (from hyperopt<0.3.0,>=0.2.7->qibo) (0.18.3)\n",
            "Requirement already satisfied: tqdm in /usr/local/lib/python3.10/dist-packages (from hyperopt<0.3.0,>=0.2.7->qibo) (4.66.2)\n",
            "Requirement already satisfied: cloudpickle in /usr/local/lib/python3.10/dist-packages (from hyperopt<0.3.0,>=0.2.7->qibo) (2.2.1)\n",
            "Requirement already satisfied: py4j in /usr/local/lib/python3.10/dist-packages (from hyperopt<0.3.0,>=0.2.7->qibo) (0.10.9.7)\n",
            "Requirement already satisfied: antlr4-python3-runtime<4.14,>=4.7 in /usr/local/lib/python3.10/dist-packages (from openqasm3[parser]>=0.5.0->qibo) (4.13.1)\n",
            "Requirement already satisfied: mpmath>=0.19 in /usr/local/lib/python3.10/dist-packages (from sympy<2.0.0,>=1.11.1->qibo) (1.3.0)\n",
            "\u001b[31mERROR: Operation cancelled by user\u001b[0m\u001b[31m\n",
            "\u001b[0mRequirement already satisfied: qibojit in /usr/local/lib/python3.10/dist-packages (0.1.3)\n",
            "Requirement already satisfied: numba>=0.51.0 in /usr/local/lib/python3.10/dist-packages (from qibojit) (0.58.1)\n",
            "Requirement already satisfied: psutil<6.0.0,>=5.9.5 in /usr/local/lib/python3.10/dist-packages (from qibojit) (5.9.5)\n",
            "Requirement already satisfied: qibo>=0.2.5 in /usr/local/lib/python3.10/dist-packages (from qibojit) (0.2.7)\n",
            "Requirement already satisfied: scipy<2.0.0,>=1.10.1 in /usr/local/lib/python3.10/dist-packages (from qibojit) (1.11.4)\n",
            "Requirement already satisfied: llvmlite<0.42,>=0.41.0dev0 in /usr/local/lib/python3.10/dist-packages (from numba>=0.51.0->qibojit) (0.41.1)\n",
            "Requirement already satisfied: numpy<1.27,>=1.22 in /usr/local/lib/python3.10/dist-packages (from numba>=0.51.0->qibojit) (1.26.4)\n",
            "Requirement already satisfied: cma<4.0.0,>=3.3.0 in /usr/local/lib/python3.10/dist-packages (from qibo>=0.2.5->qibojit) (3.3.0)\n",
            "Requirement already satisfied: hyperopt<0.3.0,>=0.2.7 in /usr/local/lib/python3.10/dist-packages (from qibo>=0.2.5->qibojit) (0.2.7)\n",
            "Requirement already satisfied: joblib<2.0.0,>=1.2.0 in /usr/local/lib/python3.10/dist-packages (from qibo>=0.2.5->qibojit) (1.3.2)\n",
            "Requirement already satisfied: networkx<4.0.0,>=3.2.1 in /usr/local/lib/python3.10/dist-packages (from qibo>=0.2.5->qibojit) (3.2.1)\n",
            "Requirement already satisfied: openqasm3[parser]>=0.5.0 in /usr/local/lib/python3.10/dist-packages (from qibo>=0.2.5->qibojit) (0.5.0)\n",
            "Requirement already satisfied: sympy<2.0.0,>=1.11.1 in /usr/local/lib/python3.10/dist-packages (from qibo>=0.2.5->qibojit) (1.12)\n",
            "Requirement already satisfied: tabulate<0.10.0,>=0.9.0 in /usr/local/lib/python3.10/dist-packages (from qibo>=0.2.5->qibojit) (0.9.0)\n",
            "Requirement already satisfied: six in /usr/local/lib/python3.10/dist-packages (from hyperopt<0.3.0,>=0.2.7->qibo>=0.2.5->qibojit) (1.16.0)\n",
            "Requirement already satisfied: future in /usr/local/lib/python3.10/dist-packages (from hyperopt<0.3.0,>=0.2.7->qibo>=0.2.5->qibojit) (0.18.3)\n",
            "Requirement already satisfied: tqdm in /usr/local/lib/python3.10/dist-packages (from hyperopt<0.3.0,>=0.2.7->qibo>=0.2.5->qibojit) (4.66.2)\n",
            "Requirement already satisfied: cloudpickle in /usr/local/lib/python3.10/dist-packages (from hyperopt<0.3.0,>=0.2.7->qibo>=0.2.5->qibojit) (2.2.1)\n",
            "Requirement already satisfied: py4j in /usr/local/lib/python3.10/dist-packages (from hyperopt<0.3.0,>=0.2.7->qibo>=0.2.5->qibojit) (0.10.9.7)\n",
            "Requirement already satisfied: antlr4-python3-runtime<4.14,>=4.7 in /usr/local/lib/python3.10/dist-packages (from openqasm3[parser]>=0.5.0->qibo>=0.2.5->qibojit) (4.13.1)\n",
            "Requirement already satisfied: mpmath>=0.19 in /usr/local/lib/python3.10/dist-packages (from sympy<2.0.0,>=1.11.1->qibo>=0.2.5->qibojit) (1.3.0)\n"
          ]
        }
      ],
      "source": [
        "!pip install numpy\n",
        "!pip install git+https://github.com/qiboteam/qiboedu\n",
        "!pip install qibo\n",
        "!pip install qibojit"
      ]
    },
    {
      "cell_type": "code",
      "source": [
        "import numpy as np\n",
        "import matplotlib.pyplot as plt\n",
        "\n",
        "import qibo\n",
        "from qibo import Circuit, gates, hamiltonians\n",
        "\n",
        "from qiboedu.scripts import plotscripts"
      ],
      "metadata": {
        "id": "-4OJNtJPFsYL"
      },
      "execution_count": 3,
      "outputs": []
    },
    {
      "cell_type": "code",
      "source": [
        "#set qibo's backend\n",
        "qibo.get_backend()"
      ],
      "metadata": {
        "colab": {
          "base_uri": "https://localhost:8080/",
          "height": 70
        },
        "id": "fdo6Ix48F53V",
        "outputId": "f05ce767-8e88-47d5-dc35-df31decddd65"
      },
      "execution_count": 4,
      "outputs": [
        {
          "output_type": "stream",
          "name": "stderr",
          "text": [
            "[Qibo 0.2.7|INFO|2024-04-10 17:42:36]: Using qibojit (numba) backend on /CPU:0\n",
            "INFO:qibo.config:Using qibojit (numba) backend on /CPU:0\n"
          ]
        },
        {
          "output_type": "execute_result",
          "data": {
            "text/plain": [
              "'qibojit (numba)'"
            ],
            "application/vnd.google.colaboratory.intrinsic+json": {
              "type": "string"
            }
          },
          "metadata": {},
          "execution_count": 4
        }
      ]
    },
    {
      "cell_type": "code",
      "source": [
        "#define a parametric circuit with layered architecture\n",
        "nqubits = 3\n",
        "nlayers = 3\n",
        "\n",
        "#activate density matrix mode\n",
        "c = Circuit(nqubits, density_matrix=True)\n",
        "\n",
        "for l in range(nlayers):\n",
        "  for q in range(nqubits):\n",
        "    c.add(gates.RY(q=q, theta=0))\n",
        "    c.add(gates.RZ(q=q, theta=0))\n",
        "  for q in range(0, nqubits-1, 1):\n",
        "    c.add(gates.CNOT(q0=q, q1=q+1))\n",
        "c.add(gates.M(*range(nqubits)))"
      ],
      "metadata": {
        "colab": {
          "base_uri": "https://localhost:8080/"
        },
        "id": "BUS_qmshF-hi",
        "outputId": "8f900f5e-59a2-4432-dfcb-42c910a0bcbf"
      },
      "execution_count": 5,
      "outputs": [
        {
          "output_type": "execute_result",
          "data": {
            "text/plain": [
              "MeasurementResult(qubits=(0, 1, 2), nshots=0)"
            ]
          },
          "metadata": {},
          "execution_count": 5
        }
      ]
    },
    {
      "cell_type": "code",
      "source": [
        "print(c.draw())\n",
        "print(f\"\\n\",c.summary())\n",
        "\n",
        "nparams = len(c.get_parameters())\n",
        "print(f\"Number of parameters: {nparams}\")"
      ],
      "metadata": {
        "colab": {
          "base_uri": "https://localhost:8080/"
        },
        "id": "BKerJndIHD4p",
        "outputId": "d4e27bdb-94d4-4903-e736-6999d3f99493"
      },
      "execution_count": 9,
      "outputs": [
        {
          "output_type": "stream",
          "name": "stdout",
          "text": [
            "q0: ─RY─RZ─o───RY─RZ─o───RY─RZ─o───M─\n",
            "q1: ─RY─RZ─X─o─RY─RZ─X─o─RY─RZ─X─o─M─\n",
            "q2: ─RY─RZ───X─RY─RZ───X─RY─RZ───X─M─\n",
            "\n",
            " Circuit depth = 13\n",
            "Total number of gates = 25\n",
            "Number of qubits = 3\n",
            "Most common gates:\n",
            "ry: 9\n",
            "rz: 9\n",
            "cx: 6\n",
            "measure: 1\n",
            "Number of parameters: 18\n"
          ]
        }
      ]
    },
    {
      "cell_type": "code",
      "source": [
        "#fix the set of angles\n",
        "angles = np.linspace(0, 2 * np.pi, nparams)\n",
        "print(angles)"
      ],
      "metadata": {
        "colab": {
          "base_uri": "https://localhost:8080/"
        },
        "id": "2KBnmD_7HsPw",
        "outputId": "4f9d0add-06c4-491c-96d5-cce41da740a2"
      },
      "execution_count": 10,
      "outputs": [
        {
          "output_type": "stream",
          "name": "stdout",
          "text": [
            "[0.         0.36959914 0.73919827 1.10879741 1.47839654 1.84799568\n",
            " 2.21759481 2.58719395 2.95679309 3.32639222 3.69599136 4.06559049\n",
            " 4.43518963 4.80478876 5.1743879  5.54398704 5.91358617 6.28318531]\n"
          ]
        }
      ]
    },
    {
      "cell_type": "code",
      "source": [
        "#set the angles into the circuit\n",
        "c.set_parameters(angles)"
      ],
      "metadata": {
        "id": "qX8Udg_WH7Aq"
      },
      "execution_count": 11,
      "outputs": []
    },
    {
      "cell_type": "code",
      "source": [
        "print(c.get_parameters())"
      ],
      "metadata": {
        "colab": {
          "base_uri": "https://localhost:8080/"
        },
        "id": "r-zV_GDoIOkY",
        "outputId": "92173af3-798b-4e13-9d7a-e19ecfc3bce9"
      },
      "execution_count": 12,
      "outputs": [
        {
          "output_type": "stream",
          "name": "stdout",
          "text": [
            "[(0.0,), (0.36959913571644626,), (0.7391982714328925,), (1.1087974071493387,), (1.478396542865785,), (1.8479956785822313,), (2.2175948142986774,), (2.587193950015124,), (2.95679308573157,), (3.326392221448016,), (3.6959913571644627,), (4.065590492880909,), (4.435189628597355,), (4.804788764313801,), (5.174387900030248,), (5.543987035746694,), (5.91358617146314,), (6.283185307179586,)]\n"
          ]
        }
      ]
    },
    {
      "cell_type": "code",
      "source": [
        "#observable definition\n",
        "obs = hamiltonians.Z(nqubits=nqubits)\n",
        "print(obs.matrix)"
      ],
      "metadata": {
        "colab": {
          "base_uri": "https://localhost:8080/"
        },
        "id": "wQF32xpCImdA",
        "outputId": "ec837d26-6224-4304-b274-38037ee793cf"
      },
      "execution_count": 13,
      "outputs": [
        {
          "output_type": "stream",
          "name": "stdout",
          "text": [
            "[[-3.-0.j -0.-0.j -0.-0.j -0.-0.j -0.-0.j -0.-0.j -0.-0.j -0.-0.j]\n",
            " [-0.-0.j -1.-0.j -0.-0.j -0.-0.j -0.-0.j -0.-0.j -0.-0.j -0.-0.j]\n",
            " [-0.-0.j -0.-0.j -1.-0.j -0.-0.j -0.-0.j -0.-0.j -0.-0.j -0.-0.j]\n",
            " [-0.-0.j -0.-0.j -0.-0.j  1.-0.j -0.-0.j -0.-0.j -0.-0.j -0.-0.j]\n",
            " [-0.-0.j -0.-0.j -0.-0.j -0.-0.j -1.-0.j -0.-0.j -0.-0.j -0.-0.j]\n",
            " [-0.-0.j -0.-0.j -0.-0.j -0.-0.j -0.-0.j  1.-0.j -0.-0.j -0.-0.j]\n",
            " [-0.-0.j -0.-0.j -0.-0.j -0.-0.j -0.-0.j -0.-0.j  1.-0.j -0.-0.j]\n",
            " [-0.-0.j -0.-0.j -0.-0.j -0.-0.j -0.-0.j -0.-0.j -0.-0.j  3.-0.j]]\n"
          ]
        }
      ]
    },
    {
      "cell_type": "markdown",
      "source": [
        "Computing the exact expectation valute:"
      ],
      "metadata": {
        "id": "vGTVRdw8I07L"
      }
    },
    {
      "cell_type": "code",
      "source": [
        "#execute the circuit\n",
        "final_state = c(nshots=2000)\n",
        "\n",
        "print(final_state)\n",
        "\n",
        "#collect and visualize frequencies\n",
        "frequencies = final_state.frequencies(binary=True)\n",
        "#print(frequencies)\n",
        "\n",
        "plotscripts.visualize_states(frequencies)"
      ],
      "metadata": {
        "colab": {
          "base_uri": "https://localhost:8080/",
          "height": 440
        },
        "id": "Mqc5yIsMI3r1",
        "outputId": "3e4b7348-1d2d-4bc1-c1ca-1a3f29809655"
      },
      "execution_count": 17,
      "outputs": [
        {
          "output_type": "stream",
          "name": "stdout",
          "text": [
            "(0.04098+0j)|000><000| + (0.05215+0.09312j)|000><001| + (-0.00872-0.02801j)|000><010| + (-0.03659-0.10883j)|000><011| + (0.02184-0.00063j)|000><100| + (0.00065+0.0529j)|000><101| + (-0.03929+0.03608j)|000><110| + (-0.00399+0.0879j)|000><111| + (0.05215-0.09312j)|001><000| + (0.27797-0j)|001><001| + (-0.07475-0.01582j)|001><010| + (-0.29388-0.05533j)|001><011| + (0.02635-0.05043j)|001><100| + (0.12105+0.06585j)|001><101| + (0.032+0.1352j)|001><110| + (0.19468+0.12092j)|001><111| + (-0.00872+0.02801j)|010><000| + (-0.07475+0.01582j)|010><001| + (0.021+0j)|010><010| + (0.08218-0.00185j)|010><011| + ...\n"
          ]
        },
        {
          "output_type": "display_data",
          "data": {
            "text/plain": [
              "<Figure size 500x375 with 1 Axes>"
            ],
            "image/png": "[encoded data removed]"
          },
          "metadata": {}
        }
      ]
    }
  ]
}